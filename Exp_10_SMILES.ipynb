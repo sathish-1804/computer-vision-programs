{
 "cells": [
  {
   "cell_type": "code",
   "execution_count": 1,
   "id": "03414044",
   "metadata": {},
   "outputs": [],
   "source": [
    "import cv2"
   ]
  },
  {
   "cell_type": "code",
   "execution_count": 2,
   "id": "fd33c0b6",
   "metadata": {},
   "outputs": [],
   "source": [
    "face_cascade = cv2.CascadeClassifier(cv2.data.haarcascades + 'haarcascade_frontalface_default.xml')\n",
    "smile_cascade = cv2.CascadeClassifier(cv2.data.haarcascades + 'haarcascade_smile.xml')"
   ]
  },
  {
   "cell_type": "code",
   "execution_count": 3,
   "id": "125469c7",
   "metadata": {},
   "outputs": [],
   "source": [
    "def detect_smile(gray, frame):\n",
    "    # Detect faces\n",
    "    faces = face_cascade.detectMultiScale(gray, scaleFactor=1.3, minNeighbors=5, minSize=(30, 30))\n",
    "\n",
    "    # Iterate over detected faces and detect smiles within each face region\n",
    "    for (x, y, w, h) in faces:\n",
    "        roi_gray = gray[y:y+h, x:x+w]\n",
    "        smiles = smile_cascade.detectMultiScale(roi_gray)\n",
    "\n",
    "        # Iterate over detected smiles and draw rectangles around them\n",
    "        for (sx, sy, sw, sh) in smiles:\n",
    "            cv2.rectangle(frame, (x+sx, y+sy), (x+sx+sw, y+sy+sh), (0, 255, 0), 2)\n",
    "\n",
    "    # Display or save the image with detected faces and smiles\n",
    "    cv2.imshow('Detected Faces and Smiles', frame)\n",
    "    cv2.waitKey(0)\n",
    "    cv2.destroyAllWindows()\n"
   ]
  },
  {
   "cell_type": "code",
   "execution_count": 4,
   "id": "5a52d093",
   "metadata": {},
   "outputs": [],
   "source": [
    "image_path = r\"C:\\Users\\DELL\\Desktop\\Ipcv_model\\Ipcv_model\\smile_img.jpg\"\n",
    "frame = cv2.imread(image_path)\n",
    "\n",
    "# Convert the image to grayscale\n",
    "gray = cv2.cvtColor(frame, cv2.COLOR_BGR2GRAY)\n",
    "\n",
    "# Perform smile detection\n",
    "canvas = detect_smile(gray, frame)"
   ]
  },
  {
   "cell_type": "code",
   "execution_count": null,
   "id": "00428595",
   "metadata": {},
   "outputs": [],
   "source": []
  }
 ],
 "metadata": {
  "kernelspec": {
   "display_name": "Python 3 (ipykernel)",
   "language": "python",
   "name": "python3"
  },
  "language_info": {
   "codemirror_mode": {
    "name": "ipython",
    "version": 3
   },
   "file_extension": ".py",
   "mimetype": "text/x-python",
   "name": "python",
   "nbconvert_exporter": "python",
   "pygments_lexer": "ipython3",
   "version": "3.11.4"
  }
 },
 "nbformat": 4,
 "nbformat_minor": 5
}
