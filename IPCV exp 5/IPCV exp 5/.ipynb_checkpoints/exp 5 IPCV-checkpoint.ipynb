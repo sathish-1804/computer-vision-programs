{
 "cells": [
  {
   "cell_type": "code",
   "execution_count": 1,
   "id": "2b61ec7e",
   "metadata": {},
   "outputs": [],
   "source": [
    "import cv2 \n",
    "import numpy as np"
   ]
  },
  {
   "cell_type": "code",
   "execution_count": 2,
   "id": "aa24564e",
   "metadata": {},
   "outputs": [],
   "source": [
    "cap = cv2.VideoCapture(\"videoplayback.mp4\")\n",
    "while True:\n",
    "    ret, frame = cap.read()\n",
    "    cv2.waitKey(30)\n",
    "    if ret == True:\n",
    "        cv2.imshow(\"Frame\", frame)\n",
    "        break\n",
    "    else:\n",
    "        break\n",
    "cap.release()\n",
    "cv2.destroyAllWindows()"
   ]
  },
  {
   "cell_type": "markdown",
   "id": "d6345e31",
   "metadata": {},
   "source": [
    "# detect forground"
   ]
  },
  {
   "cell_type": "code",
   "execution_count": 3,
   "id": "b8682f45",
   "metadata": {},
   "outputs": [],
   "source": [
    "\n",
    "cap = cv2.VideoCapture(\"videoplayback.mp4\")\n",
    "subtractor = cv2.createBackgroundSubtractorMOG2(history=10, varThreshold=16,\n",
    "detectShadows=False)\n",
    "while True:\n",
    "    ret, frame = cap.read()\n",
    "    if ret == True:\n",
    "        mask = subtractor.apply(frame)\n",
    "        cv2.imshow(\"Frame\", frame)\n",
    "        cv2.imshow(\"mask\", mask)\n",
    "        cv2.waitKey(30)\n",
    "    else:\n",
    "        break\n",
    "cap.release()\n",
    "cv2.destroyAllWindows()"
   ]
  },
  {
   "cell_type": "markdown",
   "id": "acecdcf8",
   "metadata": {},
   "source": [
    "# detect background"
   ]
  },
  {
   "cell_type": "code",
   "execution_count": 6,
   "id": "8cc5a59b",
   "metadata": {},
   "outputs": [],
   "source": [
    "\n",
    "cap = cv2.VideoCapture(\"videoplayback.mp4\")\n",
    "subtractor = cv2.createBackgroundSubtractorMOG2(history=10, varThreshold=16,\n",
    "detectShadows=False)\n",
    "while True:\n",
    "    ret, frame = cap.read()\n",
    "    if ret == True:\n",
    "        mask = subtractor.apply(frame)\n",
    "        background = cv2.bitwise_not(mask)\n",
    "        cv2.imshow(\"Frame\", frame)\n",
    "        cv2.imshow(\"background\", background)\n",
    "        cv2.waitKey(30)\n",
    "    else:\n",
    "        break\n",
    "cap.release()\n",
    "cv2.destroyAllWindows()"
   ]
  },
  {
   "cell_type": "code",
   "execution_count": null,
   "id": "789975d3",
   "metadata": {},
   "outputs": [],
   "source": []
  }
 ],
 "metadata": {
  "kernelspec": {
   "display_name": "Python 3 (ipykernel)",
   "language": "python",
   "name": "python3"
  },
  "language_info": {
   "codemirror_mode": {
    "name": "ipython",
    "version": 3
   },
   "file_extension": ".py",
   "mimetype": "text/x-python",
   "name": "python",
   "nbconvert_exporter": "python",
   "pygments_lexer": "ipython3",
   "version": "3.11.4"
  }
 },
 "nbformat": 4,
 "nbformat_minor": 5
}
