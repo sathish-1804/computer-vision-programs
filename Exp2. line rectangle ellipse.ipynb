{
 "cells": [
  {
   "cell_type": "code",
   "execution_count": 1,
   "id": "47469c17",
   "metadata": {},
   "outputs": [],
   "source": [
    "import numpy as np\n",
    "import cv2\n",
    "\n",
    "# Create an empty canvas (white background)\n",
    "canvas = np.ones((400, 600, 3), dtype=np.uint8) * 255\n",
    "\n",
    "# Draw a line\n",
    "cv2.line(canvas, (50, 50), (300, 50), (0, 0, 255), 2)\n",
    "\n",
    "# Draw a circle\n",
    "cv2.circle(canvas, (200, 200), 100, (0, 255, 0), 2)\n",
    "\n",
    "# Draw an ellipse\n",
    "cv2.ellipse(canvas, (400, 300), (100, 50), 90, 0, 360, (255, 0, 0), 2)\n",
    "\n",
    "# Display the canvas with the shapes\n",
    "cv2.imshow('Canvas with Shapes', canvas)\n",
    "cv2.waitKey(0)\n",
    "cv2.destroyAllWindows()\n"
   ]
  },
  {
   "cell_type": "code",
   "execution_count": null,
   "id": "39b3a707",
   "metadata": {},
   "outputs": [],
   "source": []
  }
 ],
 "metadata": {
  "kernelspec": {
   "display_name": "Python 3 (ipykernel)",
   "language": "python",
   "name": "python3"
  },
  "language_info": {
   "codemirror_mode": {
    "name": "ipython",
    "version": 3
   },
   "file_extension": ".py",
   "mimetype": "text/x-python",
   "name": "python",
   "nbconvert_exporter": "python",
   "pygments_lexer": "ipython3",
   "version": "3.11.4"
  }
 },
 "nbformat": 4,
 "nbformat_minor": 5
}
